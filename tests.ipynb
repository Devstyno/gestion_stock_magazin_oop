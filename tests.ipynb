{
 "cells": [
  {
   "cell_type": "markdown",
   "metadata": {},
   "source": [
    "# Tests"
   ]
  },
  {
   "cell_type": "code",
   "execution_count": 1,
   "metadata": {},
   "outputs": [],
   "source": [
    "# importations\n",
    "from modeles.fournisseur import Fournisseur\n",
    "from modeles.magasin import Magazin\n",
    "from modeles.electromenager import Electromenager\n",
    "from modeles.primeur import Primeur"
   ]
  },
  {
   "cell_type": "code",
   "execution_count": 2,
   "metadata": {},
   "outputs": [],
   "source": [
    "# creation d'un fournisseur\n",
    "fournisseur_1 = Fournisseur(\"DevstynoProjex Solutions\", \"devstynoprojexsolutions@gmail.com\")\n",
    "fournisseur_2 = Fournisseur(\"iPNet Institute of Technology\", \"ipnetexperts@ipnetinstitute.com\")\n",
    "fournisseur_3 = Fournisseur(\"Togo Farm\", \"togofarm@togofarm.tg\")\n",
    "\n",
    "# production\n",
    "produit_1 = fournisseur_1.produire(\"Refrigerateur X pro\", 1000000)\n",
    "produit_2 = fournisseur_2.produire(\"Four 3000\", 1000000)\n",
    "produit_3 = fournisseur_3.produire(\"Orange\", 500)\n",
    "produit_4 = fournisseur_1.produire(\"Chatbot IA d'Assistance Client\", 200000)"
   ]
  },
  {
   "cell_type": "code",
   "execution_count": 3,
   "metadata": {},
   "outputs": [],
   "source": [
    "# creation d'un magasin\n",
    "magazin = Magazin(\"Ets Femi\")"
   ]
  },
  {
   "cell_type": "code",
   "execution_count": 4,
   "metadata": {},
   "outputs": [],
   "source": [
    "# acquisition des produits\n",
    "magazin.remplir_stock(produit_1, 3)\n",
    "magazin.remplir_stock(produit_2, 3)\n",
    "magazin.remplir_stock(produit_3, 700)\n",
    "magazin.remplir_stock(produit_4, 1)"
   ]
  },
  {
   "cell_type": "code",
   "execution_count": 6,
   "metadata": {},
   "outputs": [
    {
     "name": "stdout",
     "output_type": "stream",
     "text": [
      "Nom : Ets Femi\n",
      "Depenses : 6550000 XOF\n",
      "Revenus : 0 XOF\n",
      "Rendement : -100.0 %\n"
     ]
    }
   ],
   "source": [
    "# description du magazin avant vente\n",
    "print(magazin.description())"
   ]
  },
  {
   "cell_type": "code",
   "execution_count": 7,
   "metadata": {},
   "outputs": [],
   "source": [
    "# ventes\n",
    "magazin.vendre(produit_1, 2)\n",
    "magazin.vendre(produit_2, 3)\n",
    "magazin.vendre(produit_3, 500)"
   ]
  },
  {
   "cell_type": "code",
   "execution_count": 8,
   "metadata": {},
   "outputs": [
    {
     "name": "stdout",
     "output_type": "stream",
     "text": [
      "Nom : Ets Femi\n",
      "Depenses : 6550000 XOF\n",
      "Revenus : 5575000.0 XOF\n",
      "Rendement : -14.885496183206106 %\n"
     ]
    }
   ],
   "source": [
    "# description du magazin apres vente\n",
    "print(magazin.description())"
   ]
  },
  {
   "cell_type": "code",
   "execution_count": null,
   "metadata": {},
   "outputs": [],
   "source": [
    "def ok(a, b, c):\n",
    "    print(a)\n",
    "    print(b)\n",
    "    print(c)\n",
    "\n",
    "okk = (\"wewfwf\", 1, True)\n",
    "okkk = {\"a\" : \"wewfwf\", \"b\" : 1, \"c\" : True}\n",
    "\n",
    "ok(*okk)\n",
    "print()\n",
    "ok(**okkk)"
   ]
  }
 ],
 "metadata": {
  "kernelspec": {
   "display_name": "Python 3",
   "language": "python",
   "name": "python3"
  },
  "language_info": {
   "codemirror_mode": {
    "name": "ipython",
    "version": 3
   },
   "file_extension": ".py",
   "mimetype": "text/x-python",
   "name": "python",
   "nbconvert_exporter": "python",
   "pygments_lexer": "ipython3",
   "version": "3.12.0"
  }
 },
 "nbformat": 4,
 "nbformat_minor": 2
}
