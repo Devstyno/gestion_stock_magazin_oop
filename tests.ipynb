{
 "cells": [
  {
   "cell_type": "markdown",
   "metadata": {},
   "source": [
    "# Tests"
   ]
  },
  {
   "cell_type": "code",
   "execution_count": 1,
   "metadata": {},
   "outputs": [],
   "source": [
    "# importations\n",
    "from modeles.fournisseur import Fournisseur\n",
    "from modeles.magasin import Magazin"
   ]
  },
  {
   "cell_type": "code",
   "execution_count": 2,
   "metadata": {},
   "outputs": [],
   "source": [
    "# creation d'un fournisseur\n",
    "fournisseur_1 = Fournisseur(\"DevstynoProjex Solutions\", \"devstynoprojexsolutions@gmail.com\")\n",
    "fournisseur_2 = Fournisseur(\"iPNet Institute of Technology\", \"ipnetexperts@ipnetinstitute.com\")\n",
    "fournisseur_3 = Fournisseur(\"Togo Farm\", \"togofarm@togofarm.tg\")\n",
    "\n",
    "# production\n",
    "produit_1 = fournisseur_1.produire(\"Refrigerateur X pro\", 1000000)\n",
    "produit_2 = fournisseur_2.produire(\"Four 3000\", 1000000)\n",
    "produit_3 = fournisseur_3.produire(\"Orange\", 500)\n",
    "produit_4 = fournisseur_1.produire(\"Chatbot IA d'Assistance Client\", 200000)"
   ]
  },
  {
   "cell_type": "code",
   "execution_count": 3,
   "metadata": {},
   "outputs": [],
   "source": [
    "# creation d'un magasin\n",
    "magazin = Magazin(\"Ets Femi\")"
   ]
  },
  {
   "cell_type": "code",
   "execution_count": 4,
   "metadata": {},
   "outputs": [],
   "source": [
    "# acquisition des produits\n",
    "magazin.remplir_stock(produit_1, 3)\n",
    "magazin.remplir_stock(produit_2, 3)\n",
    "magazin.remplir_stock(produit_3, 700)\n",
    "magazin.remplir_stock(produit_4, 1)"
   ]
  },
  {
   "cell_type": "code",
   "execution_count": 5,
   "metadata": {},
   "outputs": [
    {
     "name": "stdout",
     "output_type": "stream",
     "text": [
      "Nom : Ets Femi\n",
      "Depenses : 6550000 XOF\n",
      "Revenus : 0 XOF\n",
      "Rendement : -100.0 %\n",
      "\n",
      "LES ELECTROMENAGERS\n",
      "Nom                            Fournisseur                    Prix d'achat                   Prix de vente                 \n",
      "------------------------------------------------------------------------------------------------------------------------\n",
      "Refrigerateur X pro            DevstynoProjex Solutions       1000000                        1100000.0                     \n",
      "Four 3000                      iPNet Institute of Technology  1000000                        1050000.0                     \n",
      "\n",
      "LES PRIMEURS\n",
      "Nom                            Fournisseur                    Prix d'achat                   Prix de vente                 \n",
      "------------------------------------------------------------------------------------------------------------------------\n",
      "Orange                         Togo Farm                      500                            700.0                         \n",
      "\n",
      "AUTRES\n",
      "Nom                            Fournisseur                    Prix d'achat                   Prix de vente                 \n",
      "------------------------------------------------------------------------------------------------------------------------\n",
      "Chatbot IA d'Assistance Client DevstynoProjex Solutions       200000                         0.0                           \n",
      "None\n"
     ]
    }
   ],
   "source": [
    "# description du magazin avant vente\n",
    "print(magazin.description())"
   ]
  },
  {
   "cell_type": "code",
   "execution_count": 6,
   "metadata": {},
   "outputs": [],
   "source": [
    "# ventes\n",
    "magazin.vendre(produit_1, 2)\n",
    "magazin.vendre(produit_2, 3)\n",
    "magazin.vendre(produit_3, 500)"
   ]
  },
  {
   "cell_type": "code",
   "execution_count": 7,
   "metadata": {},
   "outputs": [
    {
     "name": "stdout",
     "output_type": "stream",
     "text": [
      "Nom : Ets Femi\n",
      "Depenses : 6550000 XOF\n",
      "Revenus : 5700000.0 XOF\n",
      "Rendement : -12.977099236641221 %\n",
      "\n",
      "LES ELECTROMENAGERS\n",
      "Nom                            Fournisseur                    Prix d'achat                   Prix de vente                 \n",
      "------------------------------------------------------------------------------------------------------------------------\n",
      "Refrigerateur X pro            DevstynoProjex Solutions       1000000                        1100000.0                     \n",
      "Four 3000                      iPNet Institute of Technology  1000000                        1050000.0                     \n",
      "\n",
      "LES PRIMEURS\n",
      "Nom                            Fournisseur                    Prix d'achat                   Prix de vente                 \n",
      "------------------------------------------------------------------------------------------------------------------------\n",
      "Orange                         Togo Farm                      500                            700.0                         \n",
      "\n",
      "AUTRES\n",
      "Nom                            Fournisseur                    Prix d'achat                   Prix de vente                 \n",
      "------------------------------------------------------------------------------------------------------------------------\n",
      "Chatbot IA d'Assistance Client DevstynoProjex Solutions       200000                         0.0                           \n",
      "None\n"
     ]
    }
   ],
   "source": [
    "# description du magazin apres vente\n",
    "print(magazin.description())"
   ]
  },
  {
   "cell_type": "code",
   "execution_count": 8,
   "metadata": {},
   "outputs": [],
   "source": [
    "# reapprovisionnement\n",
    "magazin.remplir_stock(produit_1, 4)\n",
    "magazin.remplir_stock(produit_2, 1)"
   ]
  },
  {
   "cell_type": "code",
   "execution_count": 9,
   "metadata": {},
   "outputs": [
    {
     "name": "stdout",
     "output_type": "stream",
     "text": [
      "Nom : Ets Femi\n",
      "Depenses : 11550000 XOF\n",
      "Revenus : 5700000.0 XOF\n",
      "Rendement : -50.64935064935065 %\n",
      "\n",
      "LES ELECTROMENAGERS\n",
      "Nom                            Fournisseur                    Prix d'achat                   Prix de vente                 \n",
      "------------------------------------------------------------------------------------------------------------------------\n",
      "Refrigerateur X pro            DevstynoProjex Solutions       1000000                        1100000.0                     \n",
      "Four 3000                      iPNet Institute of Technology  1000000                        1050000.0                     \n",
      "\n",
      "LES PRIMEURS\n",
      "Nom                            Fournisseur                    Prix d'achat                   Prix de vente                 \n",
      "------------------------------------------------------------------------------------------------------------------------\n",
      "Orange                         Togo Farm                      500                            700.0                         \n",
      "\n",
      "AUTRES\n",
      "Nom                            Fournisseur                    Prix d'achat                   Prix de vente                 \n",
      "------------------------------------------------------------------------------------------------------------------------\n",
      "Chatbot IA d'Assistance Client DevstynoProjex Solutions       200000                         0.0                           \n",
      "None\n"
     ]
    }
   ],
   "source": [
    "# description du magazin apres reapprovisionnement\n",
    "print(magazin.description())"
   ]
  }
 ],
 "metadata": {
  "kernelspec": {
   "display_name": "Python 3",
   "language": "python",
   "name": "python3"
  },
  "language_info": {
   "codemirror_mode": {
    "name": "ipython",
    "version": 3
   },
   "file_extension": ".py",
   "mimetype": "text/x-python",
   "name": "python",
   "nbconvert_exporter": "python",
   "pygments_lexer": "ipython3",
   "version": "3.12.0"
  }
 },
 "nbformat": 4,
 "nbformat_minor": 2
}
