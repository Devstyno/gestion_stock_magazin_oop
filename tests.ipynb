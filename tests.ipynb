{
 "cells": [
  {
   "cell_type": "markdown",
   "metadata": {},
   "source": [
    "# Tests"
   ]
  },
  {
   "cell_type": "code",
   "execution_count": null,
   "metadata": {},
   "outputs": [],
   "source": [
    "# importations\n",
    "from modeles.fournisseur import Fournisseur\n",
    "from modeles.magasin import Magazin"
   ]
  },
  {
   "cell_type": "code",
   "execution_count": null,
   "metadata": {},
   "outputs": [],
   "source": [
    "# creation d'un fournisseur\n",
    "fournisseur_1 = Fournisseur(\"DevstynoProjex Solutions\", \"devstynoprojexsolutions@gmail.com\")\n",
    "fournisseur_2 = Fournisseur(\"iPNet Institute of Technology\", \"ipnetexperts@ipnetinstitute.com\")\n",
    "fournisseur_3 = Fournisseur(\"Togo Farm\", \"togofarm@togofarm.tg\")\n",
    "\n",
    "# production\n",
    "produit_1 = fournisseur_1.produire(\"Refrigerateur X pro\", 1000000)\n",
    "produit_2 = fournisseur_2.produire(\"Four 3000\", 1000000)\n",
    "produit_3 = fournisseur_3.produire(\"Orange\", 500)\n",
    "produit_4 = fournisseur_1.produire(\"Chatbot IA d'Assistance Client\", 200000)"
   ]
  },
  {
   "cell_type": "code",
   "execution_count": null,
   "metadata": {},
   "outputs": [],
   "source": [
    "# creation d'un magasin\n",
    "magazin = Magazin(\"Ets Femi\")"
   ]
  },
  {
   "cell_type": "code",
   "execution_count": null,
   "metadata": {},
   "outputs": [],
   "source": [
    "# acquisition des produits\n",
    "magazin.remplir_stock(produit_1, 3)\n",
    "magazin.remplir_stock(produit_2, 3)\n",
    "magazin.remplir_stock(produit_3, 700)\n",
    "magazin.remplir_stock(produit_4, 1)"
   ]
  },
  {
   "cell_type": "code",
   "execution_count": null,
   "metadata": {},
   "outputs": [],
   "source": [
    "# description du magazin avant vente\n",
    "print(magazin.description())"
   ]
  },
  {
   "cell_type": "code",
   "execution_count": null,
   "metadata": {},
   "outputs": [],
   "source": [
    "# ventes\n",
    "magazin.vendre(produit_1, 2)\n",
    "magazin.vendre(produit_2, 3)\n",
    "magazin.vendre(produit_3, 500)"
   ]
  },
  {
   "cell_type": "code",
   "execution_count": null,
   "metadata": {},
   "outputs": [],
   "source": [
    "# description du magazin apres vente\n",
    "print(magazin.description())"
   ]
  },
  {
   "cell_type": "code",
   "execution_count": null,
   "metadata": {},
   "outputs": [],
   "source": [
    "# reapprovisionnement\n",
    "magazin.remplir_stock(produit_1, 4)\n",
    "magazin.remplir_stock(produit_2, 1)"
   ]
  },
  {
   "cell_type": "code",
   "execution_count": null,
   "metadata": {},
   "outputs": [],
   "source": [
    "# description du magazin apres reapprovisionnement\n",
    "print(magazin.description())"
   ]
  }
 ],
 "metadata": {
  "kernelspec": {
   "display_name": "Python 3",
   "language": "python",
   "name": "python3"
  },
  "language_info": {
   "codemirror_mode": {
    "name": "ipython",
    "version": 3
   },
   "file_extension": ".py",
   "mimetype": "text/x-python",
   "name": "python",
   "nbconvert_exporter": "python",
   "pygments_lexer": "ipython3",
   "version": "3.12.0"
  }
 },
 "nbformat": 4,
 "nbformat_minor": 2
}
